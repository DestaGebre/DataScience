{
 "cells": [
  {
   "cell_type": "markdown",
   "id": "c152d120",
   "metadata": {},
   "source": [
    "# Python short review\n",
    "In this notebook selected python concepts related to data analysis are reviewed with example code\n",
    "* Data types\n",
    "* operators\n",
    "* Loops\n",
    "* functions\n",
    "* Lambda expression\n",
    "* Map and filter"
   ]
  },
  {
   "cell_type": "code",
   "execution_count": 3,
   "id": "edaa6aee",
   "metadata": {},
   "outputs": [
    {
     "data": {
      "text/plain": [
       "1"
      ]
     },
     "execution_count": 3,
     "metadata": {},
     "output_type": "execute_result"
    }
   ],
   "source": [
    "# Basic operation\n",
    "2/2 # Division\n",
    "2*2 # Multiplication\n",
    "2+2 # Addition\n",
    "2-2 # Subtraction\n",
    "2**2 # exponentiation\n",
    "5%2 # modulo operator"
   ]
  },
  {
   "cell_type": "code",
   "execution_count": 5,
   "id": "6cffafac",
   "metadata": {},
   "outputs": [
    {
     "data": {
      "text/plain": [
       "4"
      ]
     },
     "execution_count": 5,
     "metadata": {},
     "output_type": "execute_result"
    }
   ],
   "source": [
    "# Variables in pythin do not need a type definition\n",
    "x = 4\n",
    "x"
   ]
  },
  {
   "cell_type": "code",
   "execution_count": 7,
   "id": "9da62dfd",
   "metadata": {},
   "outputs": [
    {
     "data": {
      "text/plain": [
       "256"
      ]
     },
     "execution_count": 7,
     "metadata": {},
     "output_type": "execute_result"
    }
   ],
   "source": [
    "x = x**x\n",
    "x"
   ]
  },
  {
   "cell_type": "code",
   "execution_count": 8,
   "id": "62ff82e8",
   "metadata": {},
   "outputs": [
    {
     "name": "stdout",
     "output_type": "stream",
     "text": [
      "256\n"
     ]
    }
   ],
   "source": [
    "print(x) # we can avoid Out using the print method"
   ]
  },
  {
   "cell_type": "code",
   "execution_count": 9,
   "id": "5a2dd86f",
   "metadata": {},
   "outputs": [
    {
     "data": {
      "text/plain": [
       "'I am here'"
      ]
     },
     "execution_count": 9,
     "metadata": {},
     "output_type": "execute_result"
    }
   ],
   "source": [
    "# Strings we can use single or double qoates\n",
    "\"I am here\""
   ]
  },
  {
   "cell_type": "code",
   "execution_count": 10,
   "id": "88252e1f",
   "metadata": {},
   "outputs": [
    {
     "data": {
      "text/plain": [
       "'I am here'"
      ]
     },
     "execution_count": 10,
     "metadata": {},
     "output_type": "execute_result"
    }
   ],
   "source": [
    "'I am here'"
   ]
  },
  {
   "cell_type": "code",
   "execution_count": 11,
   "id": "3f443b48",
   "metadata": {},
   "outputs": [
    {
     "data": {
      "text/plain": [
       "'Hello'"
      ]
     },
     "execution_count": 11,
     "metadata": {},
     "output_type": "execute_result"
    }
   ],
   "source": [
    "x = 'Hello'\n",
    "x"
   ]
  },
  {
   "cell_type": "code",
   "execution_count": 18,
   "id": "04e27e42",
   "metadata": {},
   "outputs": [
    {
     "data": {
      "text/plain": [
       "'My number is 23 and my name is Desta'"
      ]
     },
     "execution_count": 18,
     "metadata": {},
     "output_type": "execute_result"
    }
   ],
   "source": [
    "#we can use the curly brace to insert vaiable values in printable string\n",
    "number = 23\n",
    "name = 'Desta'\n",
    "'My number is {} and my name is {}'.format(number, name)"
   ]
  },
  {
   "cell_type": "code",
   "execution_count": 20,
   "id": "815472fd",
   "metadata": {},
   "outputs": [
    {
     "name": "stdout",
     "output_type": "stream",
     "text": [
      "My number is 23 and my name is Desta\n"
     ]
    }
   ],
   "source": [
    "# We can also use position indicators like follows\n",
    "# To avoid worrying about the order of arguments\n",
    "print('My number is {one} and my name is {two}'.format(one=number, two=name))"
   ]
  },
  {
   "cell_type": "markdown",
   "id": "d9df5083",
   "metadata": {},
   "source": [
    "* Sequence of elements, arrays and strings"
   ]
  },
  {
   "cell_type": "code",
   "execution_count": 21,
   "id": "da09a71f",
   "metadata": {},
   "outputs": [],
   "source": [
    "s = 'hello'"
   ]
  },
  {
   "cell_type": "code",
   "execution_count": 24,
   "id": "a18abf2d",
   "metadata": {},
   "outputs": [
    {
     "data": {
      "text/plain": [
       "('e', 'o')"
      ]
     },
     "execution_count": 24,
     "metadata": {},
     "output_type": "execute_result"
    }
   ],
   "source": [
    "s[1], s[4]"
   ]
  },
  {
   "cell_type": "markdown",
   "id": "c55a6444",
   "metadata": {},
   "source": [
    "* Slicing arrays"
   ]
  },
  {
   "cell_type": "code",
   "execution_count": 25,
   "id": "898672f4",
   "metadata": {},
   "outputs": [],
   "source": [
    "s = 'Iamdoinggreat'"
   ]
  },
  {
   "cell_type": "code",
   "execution_count": 26,
   "id": "e2f11330",
   "metadata": {},
   "outputs": [
    {
     "data": {
      "text/plain": [
       "'Iam'"
      ]
     },
     "execution_count": 26,
     "metadata": {},
     "output_type": "execute_result"
    }
   ],
   "source": [
    "s[:3]"
   ]
  },
  {
   "cell_type": "code",
   "execution_count": 27,
   "id": "84ec91fd",
   "metadata": {},
   "outputs": [
    {
     "data": {
      "text/plain": [
       "'mdo'"
      ]
     },
     "execution_count": 27,
     "metadata": {},
     "output_type": "execute_result"
    }
   ],
   "source": [
    "s[2:5]"
   ]
  },
  {
   "cell_type": "markdown",
   "id": "afe1f748",
   "metadata": {},
   "source": [
    "* Lists"
   ]
  },
  {
   "cell_type": "code",
   "execution_count": 28,
   "id": "534fbdbf",
   "metadata": {},
   "outputs": [
    {
     "data": {
      "text/plain": [
       "['a', 'b', 'c']"
      ]
     },
     "execution_count": 28,
     "metadata": {},
     "output_type": "execute_result"
    }
   ],
   "source": [
    "['a', 'b', 'c']"
   ]
  },
  {
   "cell_type": "code",
   "execution_count": 29,
   "id": "10e44933",
   "metadata": {},
   "outputs": [
    {
     "data": {
      "text/plain": [
       "['a', 'b', 'c']"
      ]
     },
     "execution_count": 29,
     "metadata": {},
     "output_type": "execute_result"
    }
   ],
   "source": [
    "my_list = ['a', 'b', 'c']\n",
    "my_list"
   ]
  },
  {
   "cell_type": "code",
   "execution_count": 30,
   "id": "1317b690",
   "metadata": {},
   "outputs": [
    {
     "data": {
      "text/plain": [
       "['a', 'b', 'c', 'd']"
      ]
     },
     "execution_count": 30,
     "metadata": {},
     "output_type": "execute_result"
    }
   ],
   "source": [
    "my_list.append('d')\n",
    "my_list"
   ]
  },
  {
   "cell_type": "code",
   "execution_count": 32,
   "id": "bbef390f",
   "metadata": {},
   "outputs": [
    {
     "data": {
      "text/plain": [
       "['b', 'c']"
      ]
     },
     "execution_count": 32,
     "metadata": {},
     "output_type": "execute_result"
    }
   ],
   "source": [
    "# We can do slicing lists like strings\n",
    "my_list[1:3]"
   ]
  },
  {
   "cell_type": "code",
   "execution_count": 33,
   "id": "f888cc89",
   "metadata": {},
   "outputs": [
    {
     "data": {
      "text/plain": [
       "['Me', 'b', 'c', 'd']"
      ]
     },
     "execution_count": 33,
     "metadata": {},
     "output_type": "execute_result"
    }
   ],
   "source": [
    "# We can replace a memner of a list\n",
    "my_list[0] = 'Me'\n",
    "my_list"
   ]
  },
  {
   "cell_type": "code",
   "execution_count": 34,
   "id": "1495d677",
   "metadata": {},
   "outputs": [
    {
     "data": {
      "text/plain": [
       "[[1, 2, 3], [4, 5, 6]]"
      ]
     },
     "execution_count": 34,
     "metadata": {},
     "output_type": "execute_result"
    }
   ],
   "source": [
    "# We can create nested lists as follows\n",
    "nested = [[1, 2, 3], [4, 5, 6]]\n",
    "nested"
   ]
  },
  {
   "cell_type": "code",
   "execution_count": 35,
   "id": "55b41673",
   "metadata": {},
   "outputs": [
    {
     "data": {
      "text/plain": [
       "6"
      ]
     },
     "execution_count": 35,
     "metadata": {},
     "output_type": "execute_result"
    }
   ],
   "source": [
    "nested[1][2]"
   ]
  },
  {
   "cell_type": "code",
   "execution_count": 36,
   "id": "61ac376b",
   "metadata": {},
   "outputs": [
    {
     "data": {
      "text/plain": [
       "[4, 5, 6]"
      ]
     },
     "execution_count": 36,
     "metadata": {},
     "output_type": "execute_result"
    }
   ],
   "source": [
    "nested[1]"
   ]
  },
  {
   "cell_type": "code",
   "execution_count": 37,
   "id": "149f4437",
   "metadata": {},
   "outputs": [
    {
     "data": {
      "text/plain": [
       "[[1, 2, 3], [4, 5, 6], [7, 8, ['mix']]]"
      ]
     },
     "execution_count": 37,
     "metadata": {},
     "output_type": "execute_result"
    }
   ],
   "source": [
    "# We can also mix types in a list or nested list\n",
    "mixed = [[1, 2, 3], [4, 5, 6], [7, 8, ['mix']]]\n",
    "mixed"
   ]
  },
  {
   "cell_type": "markdown",
   "id": "d43b8a6e",
   "metadata": {},
   "source": [
    "* Dictionaries are key value pairs like hash table"
   ]
  },
  {
   "cell_type": "code",
   "execution_count": 38,
   "id": "a65c7a26",
   "metadata": {},
   "outputs": [],
   "source": [
    "d = {'key1':'item1','key2':'item2'}"
   ]
  },
  {
   "cell_type": "code",
   "execution_count": 40,
   "id": "edd707d2",
   "metadata": {},
   "outputs": [
    {
     "data": {
      "text/plain": [
       "{'key1': 'item1', 'key2': 'item2'}"
      ]
     },
     "execution_count": 40,
     "metadata": {},
     "output_type": "execute_result"
    }
   ],
   "source": [
    "d"
   ]
  },
  {
   "cell_type": "code",
   "execution_count": 41,
   "id": "f0b5ec01",
   "metadata": {},
   "outputs": [
    {
     "data": {
      "text/plain": [
       "'item1'"
      ]
     },
     "execution_count": 41,
     "metadata": {},
     "output_type": "execute_result"
    }
   ],
   "source": [
    "d['key1']"
   ]
  },
  {
   "cell_type": "code",
   "execution_count": null,
   "id": "a18c789c",
   "metadata": {},
   "outputs": [],
   "source": [
    "# Dictionaries can also be of mixed types"
   ]
  },
  {
   "cell_type": "code",
   "execution_count": 42,
   "id": "2b2205fc",
   "metadata": {},
   "outputs": [
    {
     "data": {
      "text/plain": [
       "{'k1': 24, 'k2': [3, 4, 6]}"
      ]
     },
     "execution_count": 42,
     "metadata": {},
     "output_type": "execute_result"
    }
   ],
   "source": [
    "a = {'k1': 24, 'k2': [3, 4, 6]}\n",
    "a"
   ]
  },
  {
   "cell_type": "code",
   "execution_count": 45,
   "id": "3f776717",
   "metadata": {},
   "outputs": [
    {
     "data": {
      "text/plain": [
       "4"
      ]
     },
     "execution_count": 45,
     "metadata": {},
     "output_type": "execute_result"
    }
   ],
   "source": [
    "# We can access elements using proper indexing\n",
    "# of outer and inner indexes when necessary\n",
    "a['k2'][1]"
   ]
  },
  {
   "cell_type": "markdown",
   "id": "d539111a",
   "metadata": {},
   "source": [
    "* Tuples are sequence of characters in parenthesis"
   ]
  },
  {
   "cell_type": "code",
   "execution_count": 46,
   "id": "2ee260d0",
   "metadata": {},
   "outputs": [
    {
     "data": {
      "text/plain": [
       "(1, 2, 3)"
      ]
     },
     "execution_count": 46,
     "metadata": {},
     "output_type": "execute_result"
    }
   ],
   "source": [
    "t = (1, 2, 3)\n",
    "t"
   ]
  },
  {
   "cell_type": "code",
   "execution_count": 47,
   "id": "78869a5d",
   "metadata": {},
   "outputs": [
    {
     "data": {
      "text/plain": [
       "2"
      ]
     },
     "execution_count": 47,
     "metadata": {},
     "output_type": "execute_result"
    }
   ],
   "source": [
    "# We access elements in tuple like wise\n",
    "t[1]"
   ]
  },
  {
   "cell_type": "code",
   "execution_count": 48,
   "id": "d3e77025",
   "metadata": {},
   "outputs": [
    {
     "ename": "TypeError",
     "evalue": "'tuple' object does not support item assignment",
     "output_type": "error",
     "traceback": [
      "\u001b[1;31m---------------------------------------------------------------------------\u001b[0m",
      "\u001b[1;31mTypeError\u001b[0m                                 Traceback (most recent call last)",
      "\u001b[1;32m~\\AppData\\Local\\Temp\\ipykernel_18880\\1879212585.py\u001b[0m in \u001b[0;36m<module>\u001b[1;34m\u001b[0m\n\u001b[0;32m      1\u001b[0m \u001b[1;31m# tuples are imutable and do not support item assingment\u001b[0m\u001b[1;33m\u001b[0m\u001b[1;33m\u001b[0m\u001b[0m\n\u001b[1;32m----> 2\u001b[1;33m \u001b[0mt\u001b[0m\u001b[1;33m[\u001b[0m\u001b[1;36m1\u001b[0m\u001b[1;33m]\u001b[0m \u001b[1;33m=\u001b[0m \u001b[1;34m'new'\u001b[0m\u001b[1;33m\u001b[0m\u001b[1;33m\u001b[0m\u001b[0m\n\u001b[0m",
      "\u001b[1;31mTypeError\u001b[0m: 'tuple' object does not support item assignment"
     ]
    }
   ],
   "source": [
    "# tuples are imutable and do not support item assingment\n",
    "t[1] = 'new'"
   ]
  },
  {
   "cell_type": "markdown",
   "id": "d0cc2a12",
   "metadata": {},
   "source": [
    "* Set  is collection of unique elements"
   ]
  },
  {
   "cell_type": "code",
   "execution_count": 49,
   "id": "2e1e2312",
   "metadata": {},
   "outputs": [
    {
     "data": {
      "text/plain": [
       "{1, 2, 3, 4, 5}"
      ]
     },
     "execution_count": 49,
     "metadata": {},
     "output_type": "execute_result"
    }
   ],
   "source": [
    "se = set([1, 3, 1, 2, 4, 5, 2, 1])\n",
    "se"
   ]
  },
  {
   "cell_type": "markdown",
   "id": "87f04f23",
   "metadata": {},
   "source": [
    "* Cpmparison Operators"
   ]
  },
  {
   "cell_type": "code",
   "execution_count": 50,
   "id": "8c81bd77",
   "metadata": {},
   "outputs": [
    {
     "data": {
      "text/plain": [
       "True"
      ]
     },
     "execution_count": 50,
     "metadata": {},
     "output_type": "execute_result"
    }
   ],
   "source": [
    "1 <=2"
   ]
  },
  {
   "cell_type": "code",
   "execution_count": 51,
   "id": "e1849a24",
   "metadata": {},
   "outputs": [
    {
     "data": {
      "text/plain": [
       "False"
      ]
     },
     "execution_count": 51,
     "metadata": {},
     "output_type": "execute_result"
    }
   ],
   "source": [
    "1==2"
   ]
  },
  {
   "cell_type": "code",
   "execution_count": 52,
   "id": "58a07b3f",
   "metadata": {},
   "outputs": [
    {
     "data": {
      "text/plain": [
       "True"
      ]
     },
     "execution_count": 52,
     "metadata": {},
     "output_type": "execute_result"
    }
   ],
   "source": [
    "(1==2) or (2>3) or (3>=3)"
   ]
  },
  {
   "cell_type": "markdown",
   "id": "e2b44f68",
   "metadata": {},
   "source": [
    "* Conditions if elif"
   ]
  },
  {
   "cell_type": "code",
   "execution_count": 53,
   "id": "08c05769",
   "metadata": {},
   "outputs": [
    {
     "name": "stdout",
     "output_type": "stream",
     "text": [
      "True\n"
     ]
    }
   ],
   "source": [
    "if 1 < 2:\n",
    "    print('True')"
   ]
  },
  {
   "cell_type": "code",
   "execution_count": 55,
   "id": "3272d732",
   "metadata": {},
   "outputs": [
    {
     "name": "stdout",
     "output_type": "stream",
     "text": [
      "False\n"
     ]
    }
   ],
   "source": [
    "#Executes blocks of codes depending on the condition\n",
    "# Blocks are put using the same indentation\n",
    "if 1 ==2:\n",
    "    print('True')\n",
    "elif 3>4:\n",
    "    print('Yes')\n",
    "else:\n",
    "    print('False')"
   ]
  },
  {
   "cell_type": "markdown",
   "id": "3510676b",
   "metadata": {},
   "source": [
    "* Loops = for loops and while loops"
   ]
  },
  {
   "cell_type": "code",
   "execution_count": 56,
   "id": "435b6a5f",
   "metadata": {},
   "outputs": [
    {
     "name": "stdout",
     "output_type": "stream",
     "text": [
      "1\n",
      "2\n",
      "3\n",
      "4\n",
      "5\n",
      "6\n"
     ]
    }
   ],
   "source": [
    "seq = [1,2,3,4,5,6]\n",
    "for item in seq:\n",
    "    print(item)"
   ]
  },
  {
   "cell_type": "code",
   "execution_count": 61,
   "id": "ced1ae80",
   "metadata": {},
   "outputs": [
    {
     "name": "stdout",
     "output_type": "stream",
     "text": [
      "i is: 4 in the current loop\n",
      "i is: 3 in the current loop\n",
      "i is: 2 in the current loop\n",
      "i is: 1 in the current loop\n"
     ]
    }
   ],
   "source": [
    "i = 4\n",
    "while i > 0:\n",
    "    print ('i is: {} in the current loop'.format(i))\n",
    "    i=i-1"
   ]
  },
  {
   "cell_type": "code",
   "execution_count": 62,
   "id": "ac2d5dfe",
   "metadata": {},
   "outputs": [
    {
     "name": "stdout",
     "output_type": "stream",
     "text": [
      "0\n",
      "1\n",
      "2\n",
      "3\n",
      "4\n"
     ]
    }
   ],
   "source": [
    "# The range function - we do not have to initialize a vaiable and decrement\n",
    "for j in range(0, 5):\n",
    "    print(j)"
   ]
  },
  {
   "cell_type": "code",
   "execution_count": 63,
   "id": "1b0f6400",
   "metadata": {},
   "outputs": [],
   "source": [
    "# We can use for loop to create a list\n",
    "x = [1,2,3,4,5]\n",
    "out = []\n",
    "for num in x:\n",
    "    out.append(num**2)"
   ]
  },
  {
   "cell_type": "code",
   "execution_count": 64,
   "id": "96fdf101",
   "metadata": {},
   "outputs": [
    {
     "data": {
      "text/plain": [
       "[1, 4, 9, 16, 25]"
      ]
     },
     "execution_count": 64,
     "metadata": {},
     "output_type": "execute_result"
    }
   ],
   "source": [
    "out"
   ]
  },
  {
   "cell_type": "code",
   "execution_count": 66,
   "id": "aaa571ed",
   "metadata": {},
   "outputs": [
    {
     "data": {
      "text/plain": [
       "[1, 4, 9, 16, 25]"
      ]
     },
     "execution_count": 66,
     "metadata": {},
     "output_type": "execute_result"
    }
   ],
   "source": [
    "#Short hand for the above could be\n",
    "[num**2 for num in x]"
   ]
  },
  {
   "cell_type": "code",
   "execution_count": null,
   "id": "19eb1289",
   "metadata": {},
   "outputs": [],
   "source": [
    "# Or to put it in the list\n",
    "out2 = [num**2 for num in x]\n",
    "out2"
   ]
  },
  {
   "cell_type": "markdown",
   "id": "b97c5ea1",
   "metadata": {},
   "source": [
    "* Defining a function in pythin - the def keyword"
   ]
  },
  {
   "cell_type": "code",
   "execution_count": 70,
   "id": "b6af61e9",
   "metadata": {},
   "outputs": [
    {
     "name": "stdout",
     "output_type": "stream",
     "text": [
      "Hello Desta\n"
     ]
    }
   ],
   "source": [
    "def my_func(param1):\n",
    "    print('Hello ' +param1)\n",
    "my_func('Desta')"
   ]
  },
  {
   "cell_type": "code",
   "execution_count": 71,
   "id": "c172ea4b",
   "metadata": {},
   "outputs": [
    {
     "name": "stdout",
     "output_type": "stream",
     "text": [
      "Hello Default Name\n"
     ]
    }
   ],
   "source": [
    "def my_func(param1='Default Name'):\n",
    "    print('Hello ' +param1)\n",
    "my_func() # calls the function"
   ]
  },
  {
   "cell_type": "code",
   "execution_count": 72,
   "id": "cdc638b6",
   "metadata": {},
   "outputs": [
    {
     "data": {
      "text/plain": [
       "<function __main__.my_func(param1='Default Name')>"
      ]
     },
     "execution_count": 72,
     "metadata": {},
     "output_type": "execute_result"
    }
   ],
   "source": [
    "#This asks pythin what this object is\n",
    "# in this case it tells us this object us a function\n",
    "my_func"
   ]
  },
  {
   "cell_type": "code",
   "execution_count": 73,
   "id": "d58b7c45",
   "metadata": {},
   "outputs": [],
   "source": [
    "def square(num):\n",
    "    return num**2"
   ]
  },
  {
   "cell_type": "code",
   "execution_count": 75,
   "id": "3938a239",
   "metadata": {},
   "outputs": [
    {
     "data": {
      "text/plain": [
       "16"
      ]
     },
     "execution_count": 75,
     "metadata": {},
     "output_type": "execute_result"
    }
   ],
   "source": [
    "y = square(4)\n",
    "y"
   ]
  },
  {
   "cell_type": "code",
   "execution_count": 76,
   "id": "998ada1f",
   "metadata": {},
   "outputs": [
    {
     "data": {
      "text/plain": [
       "4"
      ]
     },
     "execution_count": 76,
     "metadata": {},
     "output_type": "execute_result"
    }
   ],
   "source": [
    "\"\"\" This is a muliline comment in python\"\"\"\n",
    "4"
   ]
  },
  {
   "cell_type": "code",
   "execution_count": 78,
   "id": "149b390c",
   "metadata": {},
   "outputs": [
    {
     "data": {
      "text/plain": [
       "[2, 3, 4, 5]"
      ]
     },
     "execution_count": 78,
     "metadata": {},
     "output_type": "execute_result"
    }
   ],
   "source": [
    "list(range(2,6))\n",
    "# includes lower bound and excludes upper bounf"
   ]
  },
  {
   "cell_type": "code",
   "execution_count": 79,
   "id": "2fa2e32d",
   "metadata": {},
   "outputs": [],
   "source": [
    "def square(num):\n",
    "    \"\"\" This is a muliline comment in python\n",
    "    we can use it when we have big comment\"\"\"\n",
    "    return num**2"
   ]
  },
  {
   "cell_type": "code",
   "execution_count": 81,
   "id": "6a6fbe1c",
   "metadata": {},
   "outputs": [
    {
     "data": {
      "text/plain": [
       "4"
      ]
     },
     "execution_count": 81,
     "metadata": {},
     "output_type": "execute_result"
    }
   ],
   "source": [
    "square(2)"
   ]
  },
  {
   "cell_type": "markdown",
   "id": "b81f6030",
   "metadata": {},
   "source": [
    "* Map and filter functions"
   ]
  },
  {
   "cell_type": "code",
   "execution_count": 87,
   "id": "72d6d5cc",
   "metadata": {},
   "outputs": [],
   "source": [
    "seq = [1,2,3,4,5,6]\n",
    "def times2(var):\n",
    "    return var*2"
   ]
  },
  {
   "cell_type": "code",
   "execution_count": 89,
   "id": "2e09c714",
   "metadata": {},
   "outputs": [
    {
     "data": {
      "text/plain": [
       "<map at 0x1c993bb78b0>"
      ]
     },
     "execution_count": 89,
     "metadata": {},
     "output_type": "execute_result"
    }
   ],
   "source": [
    "map(times2,seq) # We have the times2 function maped into the memory location"
   ]
  },
  {
   "cell_type": "code",
   "execution_count": 90,
   "id": "255905e6",
   "metadata": {},
   "outputs": [],
   "source": [
    "def times2(var):return var*2 # also works"
   ]
  },
  {
   "cell_type": "code",
   "execution_count": 92,
   "id": "31328c58",
   "metadata": {},
   "outputs": [
    {
     "data": {
      "text/plain": [
       "[3, 6, 9, 12, 15, 18]"
      ]
     },
     "execution_count": 92,
     "metadata": {},
     "output_type": "execute_result"
    }
   ],
   "source": [
    "#Further improvement we can use the lambda expression\n",
    "t = lambda var:var*2\n",
    "#Further\n",
    "list(map(lambda num:num*3, seq))"
   ]
  },
  {
   "cell_type": "markdown",
   "id": "bae4b43a",
   "metadata": {},
   "source": [
    "* Filter expression"
   ]
  },
  {
   "cell_type": "code",
   "execution_count": 94,
   "id": "75f5bc2f",
   "metadata": {},
   "outputs": [
    {
     "data": {
      "text/plain": [
       "[2, 4, 6]"
      ]
     },
     "execution_count": 94,
     "metadata": {},
     "output_type": "execute_result"
    }
   ],
   "source": [
    "list(filter(lambda num: num%2 == 0, seq))"
   ]
  },
  {
   "cell_type": "markdown",
   "id": "c35b4388",
   "metadata": {},
   "source": [
    "* Methods"
   ]
  },
  {
   "cell_type": "code",
   "execution_count": 95,
   "id": "b1b159b4",
   "metadata": {},
   "outputs": [],
   "source": [
    "s = \"Hello my name is s\""
   ]
  },
  {
   "cell_type": "code",
   "execution_count": 96,
   "id": "123ce286",
   "metadata": {},
   "outputs": [
    {
     "data": {
      "text/plain": [
       "['Hello', 'my', 'name', 'is', 's']"
      ]
     },
     "execution_count": 96,
     "metadata": {},
     "output_type": "execute_result"
    }
   ],
   "source": [
    "# We can use the tab button to get the list of methods that we can apply on s\n",
    "#Eg. we can use the split() method on white space\n",
    "s.split()"
   ]
  },
  {
   "cell_type": "code",
   "execution_count": 97,
   "id": "da3c79fc",
   "metadata": {},
   "outputs": [
    {
     "data": {
      "text/plain": [
       "['Mine', 'Vine']"
      ]
     },
     "execution_count": 97,
     "metadata": {},
     "output_type": "execute_result"
    }
   ],
   "source": [
    "#We can use any other character to split a string\n",
    "ss = 'Mine#Vine'\n",
    "ss.split('#')"
   ]
  },
  {
   "cell_type": "code",
   "execution_count": 98,
   "id": "c8ac938a",
   "metadata": {},
   "outputs": [
    {
     "data": {
      "text/plain": [
       "dict_values(['item1', 'item2'])"
      ]
     },
     "execution_count": 98,
     "metadata": {},
     "output_type": "execute_result"
    }
   ],
   "source": [
    "# We can use values to retunrn values of a dictionary\n",
    "# Dictionary do not have order\n",
    "d.values()"
   ]
  },
  {
   "cell_type": "code",
   "execution_count": 99,
   "id": "351f7287",
   "metadata": {},
   "outputs": [
    {
     "data": {
      "text/plain": [
       "['Me', 'b', 'c', 'd']"
      ]
     },
     "execution_count": 99,
     "metadata": {},
     "output_type": "execute_result"
    }
   ],
   "source": [
    "my_list"
   ]
  },
  {
   "cell_type": "code",
   "execution_count": 100,
   "id": "4a4016e5",
   "metadata": {},
   "outputs": [
    {
     "data": {
      "text/plain": [
       "'d'"
      ]
     },
     "execution_count": 100,
     "metadata": {},
     "output_type": "execute_result"
    }
   ],
   "source": [
    "# we can use the pop method to remove the last element\n",
    "my_list.pop()"
   ]
  },
  {
   "cell_type": "code",
   "execution_count": 101,
   "id": "c48c0141",
   "metadata": {},
   "outputs": [
    {
     "data": {
      "text/plain": [
       "['Me', 'b', 'c']"
      ]
     },
     "execution_count": 101,
     "metadata": {},
     "output_type": "execute_result"
    }
   ],
   "source": [
    "my_list"
   ]
  },
  {
   "cell_type": "code",
   "execution_count": 102,
   "id": "9322cc82",
   "metadata": {},
   "outputs": [
    {
     "data": {
      "text/plain": [
       "['Me', 'b', 'c', 'me gaina']"
      ]
     },
     "execution_count": 102,
     "metadata": {},
     "output_type": "execute_result"
    }
   ],
   "source": [
    "#Or the append method to add an item\n",
    "my_list.append('me gaina')\n",
    "my_list"
   ]
  },
  {
   "cell_type": "code",
   "execution_count": 103,
   "id": "0b865e0a",
   "metadata": {},
   "outputs": [
    {
     "data": {
      "text/plain": [
       "False"
      ]
     },
     "execution_count": 103,
     "metadata": {},
     "output_type": "execute_result"
    }
   ],
   "source": [
    "#The in operator - to chekc if an elemnt is in a list\n",
    "'x' in my_list"
   ]
  },
  {
   "cell_type": "code",
   "execution_count": 105,
   "id": "c59cda8c",
   "metadata": {},
   "outputs": [
    {
     "data": {
      "text/plain": [
       "True"
      ]
     },
     "execution_count": 105,
     "metadata": {},
     "output_type": "execute_result"
    }
   ],
   "source": [
    "'b' in my_list"
   ]
  },
  {
   "cell_type": "code",
   "execution_count": 106,
   "id": "aef221e0",
   "metadata": {},
   "outputs": [],
   "source": [
    "#Tuple unpacking\n",
    "# iterating through items in a tuple\n",
    "z = [(1,2), (3,4), (5,6)]"
   ]
  },
  {
   "cell_type": "code",
   "execution_count": 109,
   "id": "510eeb05",
   "metadata": {},
   "outputs": [
    {
     "name": "stdout",
     "output_type": "stream",
     "text": [
      "(1, 2)\n",
      "(3, 4)\n",
      "(5, 6)\n"
     ]
    }
   ],
   "source": [
    "for item in z:\n",
    "    print(item)"
   ]
  },
  {
   "cell_type": "code",
   "execution_count": 115,
   "id": "6516fd1f",
   "metadata": {},
   "outputs": [
    {
     "name": "stdout",
     "output_type": "stream",
     "text": [
      "and\n",
      "1\n",
      "and\n",
      "2\n",
      "and\n",
      "3\n",
      "and\n",
      "4\n",
      "and\n",
      "5\n",
      "and\n",
      "6\n"
     ]
    }
   ],
   "source": [
    "#This is a tuple unpacking\n",
    "for a,b in z:\n",
    "    print('and')\n",
    "    print(a)\n",
    "    print('and')\n",
    "    print(b)"
   ]
  },
  {
   "cell_type": "code",
   "execution_count": null,
   "id": "fa7416f2",
   "metadata": {},
   "outputs": [],
   "source": []
  }
 ],
 "metadata": {
  "kernelspec": {
   "display_name": "Python 3 (ipykernel)",
   "language": "python",
   "name": "python3"
  },
  "language_info": {
   "codemirror_mode": {
    "name": "ipython",
    "version": 3
   },
   "file_extension": ".py",
   "mimetype": "text/x-python",
   "name": "python",
   "nbconvert_exporter": "python",
   "pygments_lexer": "ipython3",
   "version": "3.9.13"
  }
 },
 "nbformat": 4,
 "nbformat_minor": 5
}
